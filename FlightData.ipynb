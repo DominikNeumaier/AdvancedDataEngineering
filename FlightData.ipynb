{
 "cells": [
  {
   "cell_type": "markdown",
   "metadata": {},
   "source": [
    "Spark-Session erstellen und notwendige Frameworks importieren"
   ]
  },
  {
   "cell_type": "code",
   "execution_count": 1,
   "metadata": {},
   "outputs": [
    {
     "name": "stderr",
     "output_type": "stream",
     "text": [
      "Setting default log level to \"WARN\".\n",
      "To adjust logging level use sc.setLogLevel(newLevel). For SparkR, use setLogLevel(newLevel).\n",
      "24/11/29 20:03:27 WARN NativeCodeLoader: Unable to load native-hadoop library for your platform... using builtin-java classes where applicable\n"
     ]
    }
   ],
   "source": [
    "import findspark\n",
    "findspark.init()\n",
    "import pyspark\n",
    "\n",
    "import pyspark.sql\n",
    "\n",
    "sc = pyspark.SparkContext(appName=\"FlightData\")\n"
   ]
  },
  {
   "cell_type": "markdown",
   "metadata": {},
   "source": [
    "Einlesen der Datei mit allen weltweiten Flugplätzen und Filtern auf die Region \"EU\" sowie Airport Typ \"medium_airport\" und \"large_airport\"\n",
    "\n",
    "(Hier stimmt was noch nicht, laut CSV müssten es eigentlich mehr als 976 Flugplätze sein!)"
   ]
  },
  {
   "cell_type": "code",
   "execution_count": 107,
   "metadata": {},
   "outputs": [
    {
     "name": "stdout",
     "output_type": "stream",
     "text": [
      "Die Anzahl der europäischen mittelgroßen und großen Flughäfen beträgt: 976\n",
      "Davon mittelgroße Flughäfen: 864\n",
      "Davon große Flughäfen: 112\n"
     ]
    },
    {
     "name": "stderr",
     "output_type": "stream",
     "text": [
      "                                                                                \r"
     ]
    }
   ],
   "source": [
    "airportRDD = sc.textFile(\"/Users/jankozirkelbach/Library/CloudStorage/GoogleDrive-janko.zirkelbach@hotmail.com/Meine Ablage/Master/Advanced Data Engineering/Projekt/airports.csv\")\n",
    "header = airportRDD.first()\n",
    "\n",
    "airportRDD = (\n",
    "    airportRDD.filter(lambda line: line != header)\n",
    "    .filter(lambda line: line.split(\",\")[7].strip('\"') in [\"EU\"])\n",
    "    .filter(lambda line: line.split(\",\")[2].strip('\"') in [\"medium_airport\", \"large_airport\"])\n",
    ")\n",
    "\n",
    "Anzahl_Flughäfen_gesamt = airportRDD.count()\n",
    "\n",
    "Anzahl_Flugplätze_kategorisiert = (\n",
    "    airportRDD.map(lambda line: line.split(\",\")[2].strip('\"'))\n",
    "    .countByValue()\n",
    ")\n",
    "\n",
    "print(f\"Die Anzahl der europäischen mittelgroßen und großen Flughäfen beträgt: {Anzahl_Flughäfen_gesamt}\")\n",
    "print(f\"Davon mittelgroße Flughäfen: {Anzahl_Flugplätze_kategorisiert.get(\"medium_airport\", 0)}\")\n",
    "print(f\"Davon große Flughäfen: {Anzahl_Flugplätze_kategorisiert.get(\"large_airport\", 0)}\")"
   ]
  },
  {
   "cell_type": "markdown",
   "metadata": {},
   "source": [
    "Einlesen und filtern aller weltweit zugelassenen Flugobjekte, sortiert nach den Airlines mit den meisten Flugzeugen"
   ]
  },
  {
   "cell_type": "code",
   "execution_count": 108,
   "metadata": {},
   "outputs": [
    {
     "name": "stdout",
     "output_type": "stream",
     "text": [
      "Anzahl der weltweit gemeldeten, eindeutigen Flug- und Bodenobjekte 601338\n",
      "Top 20 Airlines nach Anzahl der registrierten Flugzeuge:\n",
      "United States Air Force: 2223\n",
      "Delta Air Lines: 781\n",
      "American Airlines: 657\n",
      "Corporate Airlink: 649\n",
      "Federal Express: 560\n",
      "Royal Air Force: 503\n",
      "United Airlines: 451\n",
      "Southwest Airlines: 280\n",
      "German Air Force: 277\n",
      "Boeing: 274\n",
      "United Parcel Service: 270\n",
      "Indian Air Force: 236\n",
      "Force Aerienne Francaise: 223\n",
      "Gulfstream Aerospace: 201\n",
      "Bombardier: 190\n",
      "Ryanair: 159\n",
      "Qatar Airways: 157\n",
      "Skywest Airlines: 153\n",
      "Aeroflot Russian Airlines: 147\n",
      "Royal Netherlands Air Force: 144\n"
     ]
    }
   ],
   "source": [
    "aircraftRDD = sc.textFile(\"/Users/jankozirkelbach/Library/CloudStorage/GoogleDrive-janko.zirkelbach@hotmail.com/Meine Ablage/Master/Advanced Data Engineering/Projekt/aircraft-database-complete-2024-10.csv\")\n",
    "header = aircraftRDD.first()\n",
    "\n",
    "Anzahl_registrierte_Flugobjekte = aircraftRDD.count()\n",
    "print(f\"Anzahl der weltweit gemeldeten, eindeutigen Flug- und Bodenobjekte {Anzahl_registrierte_Flugobjekte}\")\n",
    "\n",
    "aircraftRDD = (\n",
    "    aircraftRDD.filter(lambda line: line != header)\n",
    "    .filter(lambda line: len(line.split(\",\"))>16)\n",
    "    .map(lambda line: line.split(\",\")[17].strip('\"'))\n",
    "    .filter(lambda airline: airline != \"''\")\n",
    "    .map(lambda airline: (airline, 1))\n",
    "    .reduceByKey(lambda a, b: a + b)\n",
    "    .sortBy(lambda x: x[1], ascending=False)            \n",
    ")\n",
    "\n",
    "top_20_airlines = aircraftRDD.take(20)\n",
    "\n",
    "print(\"Top 20 Airlines nach Anzahl der registrierten Flugzeuge:\")\n",
    "for airline, count in top_20_airlines:\n",
    "    print(f\"{airline}: {count}\")"
   ]
  },
  {
   "cell_type": "markdown",
   "metadata": {},
   "source": [
    "Einlesen und filtern der Flugzeug Bewegungsdaten nach Landungen mit darauffolgendem Start"
   ]
  },
  {
   "cell_type": "code",
   "execution_count": null,
   "metadata": {},
   "outputs": [],
   "source": [
    "flightdata_file = \"/Users/jankozirkelbach/Library/CloudStorage/GoogleDrive-janko.zirkelbach@hotmail.com/Meine Ablage/Master/Advanced Data Engineering/Projekt/20230126_merged.csv\"\n"
   ]
  }
 ],
 "metadata": {
  "kernelspec": {
   "display_name": "Python 3",
   "language": "python",
   "name": "python3"
  },
  "language_info": {
   "codemirror_mode": {
    "name": "ipython",
    "version": 3
   },
   "file_extension": ".py",
   "mimetype": "text/x-python",
   "name": "python",
   "nbconvert_exporter": "python",
   "pygments_lexer": "ipython3",
   "version": "3.13.0"
  }
 },
 "nbformat": 4,
 "nbformat_minor": 2
}
