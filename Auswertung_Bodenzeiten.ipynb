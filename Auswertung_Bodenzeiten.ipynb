{
 "cells": [
  {
   "cell_type": "markdown",
   "metadata": {},
   "source": [
    "Verbesserungsideen:\n",
    "1. Zwischendateien eliminieren\n",
    "2. Airport Datei filtern auf Continent Europa und Type nur small, medium, large airport\n",
    "3. time ohne zeitzonen Informationen speichern"
   ]
  },
  {
   "cell_type": "markdown",
   "metadata": {},
   "source": [
    "1. Sortieren der Input Datei"
   ]
  },
  {
   "cell_type": "code",
   "execution_count": 1,
   "metadata": {},
   "outputs": [
    {
     "name": "stdout",
     "output_type": "stream",
     "text": [
      "Die bereinigte Datei wurde unter '/Users/jankozirkelbach/Library/CloudStorage/GoogleDrive-janko.zirkelbach@hotmail.com/Meine Ablage/Master/Advanced Data Engineering/Projekt/20230126_sorted.csv' gespeichert.\n"
     ]
    }
   ],
   "source": [
    "import pandas as pd\n",
    "\n",
    "# CSV-Datei laden\n",
    "input_file = '/Users/jankozirkelbach/Library/CloudStorage/GoogleDrive-janko.zirkelbach@hotmail.com/Meine Ablage/Master/Advanced Data Engineering/Projekt/20230126_merged.csv'\n",
    "output_file = '/Users/jankozirkelbach/Library/CloudStorage/GoogleDrive-janko.zirkelbach@hotmail.com/Meine Ablage/Master/Advanced Data Engineering/Projekt/20230126_sorted.csv'\n",
    "\n",
    "# Nur die relevanten Spalten laden und die Zeitzonen entfernen\n",
    "df = pd.read_csv(input_file, usecols=['time', 'icao24', 'lat', 'lon', 'onground'])\n",
    "\n",
    "# 'time' Spalte in ein Datum-Zeit-Objekt konvertieren und Zeitzoneninformationen entfernen\n",
    "df['time'] = pd.to_datetime(df['time']).dt.tz_localize(None)\n",
    "\n",
    "# Nach 'time' aufsteigend sortieren\n",
    "df = df.sort_values(by='time')\n",
    "\n",
    "# Neue Datei speichern\n",
    "df.to_csv(output_file, index=False)\n",
    "\n",
    "print(f\"Die bereinigte Datei wurde unter '{output_file}' gespeichert.\")"
   ]
  },
  {
   "cell_type": "markdown",
   "metadata": {},
   "source": [
    "2. Auswertung der Start und Landezeiten"
   ]
  },
  {
   "cell_type": "code",
   "execution_count": 2,
   "metadata": {},
   "outputs": [
    {
     "name": "stderr",
     "output_type": "stream",
     "text": [
      "Setting default log level to \"WARN\".\n",
      "To adjust logging level use sc.setLogLevel(newLevel). For SparkR, use setLogLevel(newLevel).\n",
      "24/11/26 14:31:31 WARN NativeCodeLoader: Unable to load native-hadoop library for your platform... using builtin-java classes where applicable\n",
      "Java HotSpot(TM) 64-Bit Server VM warning: CodeCache is full. Compiler has been disabled.\n",
      "Java HotSpot(TM) 64-Bit Server VM warning: Try increasing the code cache size using -XX:ReservedCodeCacheSize=\n"
     ]
    },
    {
     "name": "stdout",
     "output_type": "stream",
     "text": [
      "CodeCache: size=131072Kb used=23273Kb max_used=23494Kb free=107798Kb\n",
      " bounds [0x000000010a9f8000, 0x000000010c118000, 0x00000001129f8000]\n",
      " total_blobs=9410 nmethods=8488 adapters=835\n",
      " compilation: disabled (not enough contiguous free space left)\n"
     ]
    },
    {
     "name": "stderr",
     "output_type": "stream",
     "text": [
      "[Stage 4:>                                                          (0 + 1) / 1]\r"
     ]
    },
    {
     "name": "stdout",
     "output_type": "stream",
     "text": [
      "Die Analyse wurde abgeschlossen und alle Ergebnisse wurden in '/Users/jankozirkelbach/Library/CloudStorage/GoogleDrive-janko.zirkelbach@hotmail.com/Meine Ablage/Master/Advanced Data Engineering/Projekt/Starts_und_Landungen_pyspark.csv' gespeichert.\n"
     ]
    },
    {
     "name": "stderr",
     "output_type": "stream",
     "text": [
      "                                                                                \r"
     ]
    }
   ],
   "source": [
    "import findspark\n",
    "findspark.init()\n",
    "import pyspark\n",
    "\n",
    "from pyspark.sql import SparkSession\n",
    "from pyspark.sql.functions import col, lead, lag, unix_timestamp, lit, concat, floor, row_number\n",
    "from pyspark.sql.window import Window\n",
    "\n",
    "# Spark-Session erstellen\n",
    "spark = SparkSession.builder.appName(\"StartsUndLandungen\").getOrCreate()\n",
    "\n",
    "# Eingabedatei und Ausgabedatei\n",
    "input_file = '/Users/jankozirkelbach/Library/CloudStorage/GoogleDrive-janko.zirkelbach@hotmail.com/Meine Ablage/Master/Advanced Data Engineering/Projekt/20230126_sorted.csv'\n",
    "output_file = '/Users/jankozirkelbach/Library/CloudStorage/GoogleDrive-janko.zirkelbach@hotmail.com/Meine Ablage/Master/Advanced Data Engineering/Projekt/Starts_und_Landungen_pyspark.csv'\n",
    "\n",
    "# Alle CSV-Dateien laden\n",
    "df = spark.read.csv(input_file, header=True, inferSchema=True)\n",
    "\n",
    "# Sicherstellen, dass die Spalte 'time' als Timestamp erkannt wird\n",
    "df = df.withColumn(\"time\", col(\"time\").cast(\"timestamp\"))\n",
    "\n",
    "# Fensterfunktion für ICAO24, sortiert nach Zeit\n",
    "window_icao24 = Window.partitionBy(\"icao24\").orderBy(\"time\")\n",
    "\n",
    "# Lag und Lead berechnen\n",
    "df = df.withColumn(\"prev_onground\", lag(\"onground\").over(window_icao24))\n",
    "df = df.withColumn(\"next_onground\", lead(\"onground\").over(window_icao24))\n",
    "\n",
    "# Landungen identifizieren\n",
    "landungen_df = df.filter((col(\"prev_onground\") == 0) & (col(\"onground\") == 1)).select(\n",
    "    col(\"icao24\").alias(\"landung_icao24\"),\n",
    "    col(\"time\").alias(\"landung_time\"),\n",
    "    col(\"lat\").alias(\"landung_lat\"),\n",
    "    col(\"lon\").alias(\"landung_lon\")\n",
    ")\n",
    "\n",
    "# Starts identifizieren\n",
    "starts_df = df.filter((col(\"onground\") == 0) & (col(\"prev_onground\") == 1)).select(\n",
    "    col(\"icao24\").alias(\"start_icao24\"),\n",
    "    col(\"time\").alias(\"start_time\"),\n",
    "    col(\"lat\").alias(\"start_lat\"),\n",
    "    col(\"lon\").alias(\"start_lon\")\n",
    ")\n",
    "\n",
    "# Verknüpfen von Landungen und Starts\n",
    "joined_df = landungen_df.crossJoin(starts_df).filter(\n",
    "    (col(\"landung_icao24\") == col(\"start_icao24\")) &  # Gleiche Flugzeugkennung\n",
    "    (col(\"start_time\") > col(\"landung_time\"))         # Start nach Landung\n",
    ")\n",
    "\n",
    "# Berechnung der Zeitdifferenz\n",
    "joined_df = joined_df.withColumn(\n",
    "    \"time_difference\",\n",
    "    unix_timestamp(\"start_time\") - unix_timestamp(\"landung_time\")\n",
    ")\n",
    "\n",
    "# Fensterfunktion für die nächste Startzeit nach jeder Landung\n",
    "window_landung = Window.partitionBy(\"landung_icao24\", \"landung_time\").orderBy(\"time_difference\")\n",
    "\n",
    "# Bestimme den nächsten Startzeitpunkt\n",
    "joined_df = joined_df.withColumn(\"row_number\", row_number().over(window_landung)).filter(\n",
    "    col(\"row_number\") == 1  # Nur den nächsten Start auswählen\n",
    ").drop(\"row_number\")\n",
    "\n",
    "# Berechnung der Zeit am Boden\n",
    "final_df = joined_df.withColumn(\n",
    "    \"time_am_boden_seconds\",\n",
    "    unix_timestamp(\"start_time\") - unix_timestamp(\"landung_time\")\n",
    ").withColumn(\n",
    "    \"time_am_boden_minutes\",\n",
    "    floor(col(\"time_am_boden_seconds\") / 60)\n",
    ").withColumn(\n",
    "    \"time_am_boden_remaining_seconds\",\n",
    "    col(\"time_am_boden_seconds\") % 60\n",
    ").withColumn(\n",
    "    \"time_am_boden\",\n",
    "    concat(\n",
    "        col(\"time_am_boden_minutes\").cast(\"string\"), lit(\"m \"),\n",
    "        col(\"time_am_boden_remaining_seconds\").cast(\"string\"), lit(\"s\")\n",
    "    )\n",
    ")\n",
    "\n",
    "# Ergebnis-Datenrahmen mit relevanten Spalten\n",
    "result_df = final_df.select(\n",
    "    col(\"landung_icao24\").alias(\"icao24\"),\n",
    "    \"landung_time\",\n",
    "    \"landung_lat\",\n",
    "    \"landung_lon\",\n",
    "    \"start_time\",\n",
    "    \"start_lat\",\n",
    "    \"start_lon\",\n",
    "    \"time_am_boden\"\n",
    ")\n",
    "\n",
    "# Ergebnisse in einer einzigen Datei speichern\n",
    "result_df.coalesce(1).write.csv(output_file, header=True, mode=\"overwrite\")\n",
    "\n",
    "print(f\"Die Analyse wurde abgeschlossen und alle Ergebnisse wurden in '{output_file}' gespeichert.\")"
   ]
  },
  {
   "cell_type": "markdown",
   "metadata": {},
   "source": [
    "3. Zuordnung zu Flugplätzen"
   ]
  },
  {
   "cell_type": "code",
   "execution_count": 4,
   "metadata": {},
   "outputs": [
    {
     "name": "stderr",
     "output_type": "stream",
     "text": [
      "                                                                                \r"
     ]
    }
   ],
   "source": [
    "from pyspark.sql.functions import col, lit, row_number, radians, sin, cos, sqrt, atan2\n",
    "\n",
    "# Datei mit Flugdaten einlesen\n",
    "flugdaten_file = \"/Users/jankozirkelbach/Library/CloudStorage/GoogleDrive-janko.zirkelbach@hotmail.com/Meine Ablage/Master/Advanced Data Engineering/Projekt/Starts_und_Landungen_pyspark.csv/part-00000-a0720a09-afb5-4a5a-b624-5cc80df23b81-c000.csv\"\n",
    "result_df = spark.read.csv(flugdaten_file, header=True, inferSchema=True)\n",
    "\n",
    "# Datei mit Flughafendaten einlesen\n",
    "airport_file = \"/Users/jankozirkelbach/Library/CloudStorage/GoogleDrive-janko.zirkelbach@hotmail.com/Meine Ablage/Master/Advanced Data Engineering/Projekt/airports.csv\"\n",
    "airports_df = spark.read.csv(airport_file, header=True, inferSchema=True)\n",
    "\n",
    "# Flughafendaten vorbereiten: Spalten korrekt benennen\n",
    "airports_df = airports_df.withColumnRenamed(\"latitude_deg\", \"airport_lat\") \\\n",
    "                         .withColumnRenamed(\"longitude_deg\", \"airport_lon\")\n",
    "\n",
    "# Haversine-Funktion definieren\n",
    "def haversine(lat1, lon1, lat2, lon2):\n",
    "    R = 6371  # Erdradius in km\n",
    "    dlat = radians(lat2 - lat1)\n",
    "    dlon = radians(lon2 - lon1)\n",
    "    a = sin(dlat / 2) ** 2 + cos(radians(lat1)) * cos(radians(lat2)) * sin(dlon / 2) ** 2\n",
    "    c = 2 * atan2(sqrt(a), sqrt(1 - a))\n",
    "    return R * c\n",
    "\n",
    "# Kreuzprodukt zwischen Flugdaten und Flughafendaten\n",
    "expanded_df = result_df.crossJoin(airports_df)\n",
    "\n",
    "# Entfernung berechnen\n",
    "expanded_df = expanded_df.withColumn(\n",
    "    \"distance_to_airport\",\n",
    "    haversine(\n",
    "        col(\"landung_lat\"), col(\"landung_lon\"),\n",
    "        col(\"airport_lat\"), col(\"airport_lon\")\n",
    "    )\n",
    ")\n",
    "\n",
    "# Filter auf Umkreis von 10 km\n",
    "filtered_df = expanded_df.filter(col(\"distance_to_airport\") <= 10)\n",
    "\n",
    "# Nächsten Flughafen finden\n",
    "window = Window.partitionBy(\"icao24\", \"landung_time\").orderBy(\"distance_to_airport\")\n",
    "\n",
    "nearest_airport_df = filtered_df.withColumn(\"row_number\", row_number().over(window)) \\\n",
    "                                .filter(col(\"row_number\") == 1) \\\n",
    "                                .select(\n",
    "                                    \"icao24\",\n",
    "                                    \"landung_time\",\n",
    "                                    \"landung_lat\",\n",
    "                                    \"landung_lon\",\n",
    "                                    \"start_time\",\n",
    "                                    \"start_lat\",\n",
    "                                    \"start_lon\",\n",
    "                                    \"time_am_boden\",\n",
    "                                    \"name\",  # Flughafenname\n",
    "                                    \"distance_to_airport\",\n",
    "                                    \"type\"\n",
    "                                )\n",
    "\n",
    "# Ergebnisse anzeigen oder speichern\n",
    "nearest_airport_df.write.csv(\"/Users/jankozirkelbach/Library/CloudStorage/GoogleDrive-janko.zirkelbach@hotmail.com/Meine Ablage/Master/Advanced Data Engineering/Projekt/result_with_nearest_airports.csv\", header=True, mode=\"overwrite\")\n"
   ]
  }
 ],
 "metadata": {
  "kernelspec": {
   "display_name": "Python 3 (ipykernel)",
   "language": "python",
   "name": "python3"
  },
  "language_info": {
   "codemirror_mode": {
    "name": "ipython",
    "version": 3
   },
   "file_extension": ".py",
   "mimetype": "text/x-python",
   "name": "python",
   "nbconvert_exporter": "python",
   "pygments_lexer": "ipython3",
   "version": "3.13.0"
  }
 },
 "nbformat": 4,
 "nbformat_minor": 2
}
